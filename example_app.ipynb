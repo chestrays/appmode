{
 "cells": [
  {
   "cell_type": "code",
   "execution_count": 5,
   "metadata": {},
   "outputs": [],
   "source": [
    "import os\n",
    "USERNAME=os.environ.get('APPMODE_USER', 'Not logged in')\n",
    "print(os.environ.get('APPMODE_SETTINGS', ''), 'settings loaded')"
   ]
  },
  {
   "cell_type": "code",
   "execution_count": 4,
   "metadata": {},
   "outputs": [
    {
     "data": {
      "application/javascript": [
       "$('#appmode-leave').hide();                          // Hides the edit app button.\n",
       "$('#appmode-busy').hide();                           // Hides the kernel busy indicator."
      ],
      "text/plain": [
       "<IPython.core.display.Javascript object>"
      ]
     },
     "metadata": {},
     "output_type": "display_data"
    }
   ],
   "source": [
    "%%javascript\n",
    "$('#appmode-leave').hide();                          // Hides the edit app button.\n",
    "$('#appmode-busy').hide();                           // Hides the kernel busy indicator."
   ]
  },
  {
   "cell_type": "code",
   "execution_count": 9,
   "metadata": {},
   "outputs": [
    {
     "data": {
      "application/vnd.jupyter.widget-view+json": {
       "model_id": "626aacc11ae74e75a7a30484459c9d28",
       "version_major": 2,
       "version_minor": 0
      },
      "text/html": [
       "<p>Failed to display Jupyter Widget of type <code>VBox</code>.</p>\n",
       "<p>\n",
       "  If you're reading this message in the Jupyter Notebook or JupyterLab Notebook, it may mean\n",
       "  that the widgets JavaScript is still loading. If this message persists, it\n",
       "  likely means that the widgets JavaScript library is either not installed or\n",
       "  not enabled. See the <a href=\"https://ipywidgets.readthedocs.io/en/stable/user_install.html\">Jupyter\n",
       "  Widgets Documentation</a> for setup instructions.\n",
       "</p>\n",
       "<p>\n",
       "  If you're reading this message in another frontend (for example, a static\n",
       "  rendering on GitHub or <a href=\"https://nbviewer.jupyter.org/\">NBViewer</a>),\n",
       "  it may mean that your frontend doesn't currently support widgets.\n",
       "</p>\n"
      ],
      "text/plain": [
       "VBox(children=(Text(value='', disabled=True, placeholder='Welcome dummy_user'), Text(value='', disabled=True, layout=Layout(width='190px'), placeholder='0'), HBox(children=(Button(description='(', layout=Layout(width='45px'), style=ButtonStyle()), Button(description=')', layout=Layout(width='45px'), style=ButtonStyle()), Button(description='del', layout=Layout(width='45px'), style=ButtonStyle()), Button(description='AC', layout=Layout(width='45px'), style=ButtonStyle()))), HBox(children=(Button(description='7', layout=Layout(width='45px'), style=ButtonStyle()), Button(description='8', layout=Layout(width='45px'), style=ButtonStyle()), Button(description='9', layout=Layout(width='45px'), style=ButtonStyle()), Button(description=' / ', layout=Layout(width='45px'), style=ButtonStyle()))), HBox(children=(Button(description='4', layout=Layout(width='45px'), style=ButtonStyle()), Button(description='5', layout=Layout(width='45px'), style=ButtonStyle()), Button(description='6', layout=Layout(width='45px'), style=ButtonStyle()), Button(description=' * ', layout=Layout(width='45px'), style=ButtonStyle()))), HBox(children=(Button(description='1', layout=Layout(width='45px'), style=ButtonStyle()), Button(description='2', layout=Layout(width='45px'), style=ButtonStyle()), Button(description='3', layout=Layout(width='45px'), style=ButtonStyle()), Button(description=' - ', layout=Layout(width='45px'), style=ButtonStyle()))), HBox(children=(Button(description='0', layout=Layout(width='45px'), style=ButtonStyle()), Button(description='.', layout=Layout(width='45px'), style=ButtonStyle()), Button(description='=', layout=Layout(width='45px'), style=ButtonStyle()), Button(description=' + ', layout=Layout(width='45px'), style=ButtonStyle())))))"
      ]
     },
     "metadata": {},
     "output_type": "display_data"
    }
   ],
   "source": [
    "import ipywidgets as ipw\n",
    "title_box = ipw.Text(placeholder=f'Welcome {USERNAME}', disabled=True)\n",
    "output = ipw.Text(placeholder=\"0\", \n",
    "                  layout=ipw.Layout(width=\"190px\"),  \n",
    "                  disabled=True)\n",
    "\n",
    "def on_click(btn):\n",
    "    if btn.description == \"=\":\n",
    "        try:\n",
    "            output.value = str(eval(output.value))\n",
    "        except:\n",
    "            output.value = \"ERROR\"\n",
    "    elif btn.description == \"AC\":\n",
    "        output.value = \"\"\n",
    "    elif btn.description == \"del\":\n",
    "        output.value = output.value[:-1]\n",
    "    else:\n",
    "        output.value = output.value + btn.description\n",
    "\n",
    "def mk_btn(description):\n",
    "    btn = ipw.Button(description=description, layout=ipw.Layout(width=\"45px\"))\n",
    "    btn.on_click(on_click)\n",
    "    return btn\n",
    "\n",
    "row0 = ipw.HBox([mk_btn(d) for d in (\"(\", \")\", \"del\", \"AC\")])\n",
    "row1 = ipw.HBox([mk_btn(d) for d in (\"7\", \"8\", \"9\", \" / \")])\n",
    "row2 = ipw.HBox([mk_btn(d) for d in (\"4\", \"5\", \"6\", \" * \")])\n",
    "row3 = ipw.HBox([mk_btn(d) for d in (\"1\", \"2\", \"3\", \" - \")])\n",
    "row4 = ipw.HBox([mk_btn(d) for d in (\"0\", \".\", \"=\", \" + \")])\n",
    "ipw.VBox((title_box, output, row0, row1, row2, row3, row4))"
   ]
  },
  {
   "cell_type": "code",
   "execution_count": null,
   "metadata": {},
   "outputs": [],
   "source": []
  }
 ],
 "metadata": {
  "kernelspec": {
   "display_name": "Python 3",
   "language": "python",
   "name": "python3"
  },
  "language_info": {
   "codemirror_mode": {
    "name": "ipython",
    "version": 3
   },
   "file_extension": ".py",
   "mimetype": "text/x-python",
   "name": "python",
   "nbconvert_exporter": "python",
   "pygments_lexer": "ipython3",
   "version": "3.6.5"
  }
 },
 "nbformat": 4,
 "nbformat_minor": 2
}
